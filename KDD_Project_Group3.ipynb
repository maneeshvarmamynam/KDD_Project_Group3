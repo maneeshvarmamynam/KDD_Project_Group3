{
 "cells": [
  {
   "cell_type": "markdown",
   "id": "f7867b9a-b305-4786-ac33-b51f280e4cdc",
   "metadata": {},
   "source": [
    "#### Impact Analysis of Mobile Phone Usage on Academic Performance and Health Outcomes in Students"
   ]
  },
  {
   "cell_type": "markdown",
   "id": "47cb0881-a2fc-4aa8-8013-48319c81875c",
   "metadata": {},
   "source": [
    "#### Team Name: Project Group3"
   ]
  },
  {
   "cell_type": "markdown",
   "id": "df5cfb0e-3cb2-4ae3-8782-3fe6cfc68793",
   "metadata": {},
   "source": [
    "#### Team Members:\n",
    "\n",
    "1.Maneesh Varma Mynam<br>\n",
    "2.Tanishq Mahajan<br>\n",
    "3.Nishit Saraf<br>\n"
   ]
  },
  {
   "cell_type": "markdown",
   "id": "8ed8a7b8-7836-40a6-868f-2107ebd640aa",
   "metadata": {},
   "source": [
    "# Project Introduction:\n",
    "The \"Students Health & Academic Performance\" dataset explores the complex relationship that links the health behaviors—specifically, the use of mobile phones—of students and their academic performance. This dataset consists of multiple rows, each of which represents a student, and has columns that included personal data, mobile phone usage patterns, impact on education, health awareness, and symptoms associated with it. The purpose of this study is to investigate the relationship between students' use of mobile phones and their health and academic performance.\n",
    "\n",
    "As the data is of this kind, our study aims to be both predictive and diagnostic. Our goals are to identify existing trends and connections in the dataset and estimate the potential effects of particular actions on academic achievement. This study will discover important determinants of academic achievement and health by using supervised learning techniques, including classification and logistic regression. In order to distinguish between various student groups based to their usage habits and health effects, we will also look into clustering.\n"
   ]
  },
  {
   "cell_type": "markdown",
   "id": "0f3fb920-47b8-42b5-ba86-718ee6ae841a",
   "metadata": {},
   "source": [
    "# Research Question: \n",
    "How does mobile phone usage affect students' academic performance and health outcomes, and which specific usage patterns and health symptoms are most closely linked to changes in perceived academic performance?"
   ]
  },
  {
   "cell_type": "markdown",
   "id": "e9e5a4d6-5993-47a5-9f4d-cffeea525132",
   "metadata": {},
   "source": [
    "# Relevant Domain Information\n",
    "<b>Article:</b><a href=https://courses.lumenlearning.com/readinganthology/chapter/the-relationship-between-cell-phone-use-and-academic-performance-in-a-sample-of-u-s-college-students-by-andrew-lepp-jacob-e-barkley-and-aryn-c-karpinski>The Relationship Between Cell Phone Use and Academic Performance</a><br>\n",
    "Above article study examines how mobile phone usage affects academic performance among university students, analyzing patterns and outcomes related to mobile phone habits and academic achievement. <br>\n",
    "\n",
    "<b>Article:</b><a href=https://www.semanticscholar.org/paper/The-effects-of-mobile-phone-use-on-academic-A-Kates-Wu/593c59df1d77f700a8b469c9712f321b2889be8e>The effects of mobile phone use on academic performance</a><br>\n",
    "This article review examines how using technology, especially mobile phones, affects students' academic performance and overall well-being. It combines results from various studies to give a clear picture of how mobile phone use impacts students' education and health."
   ]
  },
  {
   "cell_type": "markdown",
   "id": "5bfc7867-e37a-4a2a-bc30-e16fbab98c97",
   "metadata": {},
   "source": [
    "# Data Source and Description\n",
    "\n",
    "Our initial review of the dataset reveals comprehensive details on students’ mobile phone usage, academic performance, and health outcomes. The dataset includes attributes such as demographic information, mobile phone ownership, usage patterns for educational purposes, health symptoms, and academic performance metrics.\n",
    "\n",
    "Key observations from the dataset include:\n",
    "\n",
    "<b>Demographic Distribution:</b>\n",
    "The dataset encompasses a diverse age range and gender distribution, providing a representative sample of the student population.<br>\n",
    "<b>Mobile Phone Ownership and Usage Patterns:</b>\n",
    "Almost all students own mobile phones, with varied usage frequencies for educational purposes. Some use their phones frequently for learning activities, while others use them less often.\n",
    "The types of activities include online research, educational apps, and email, highlighting the multifaceted ways students integrate mobile phones into their academic routines.<br>\n",
    "<b>Perceptions of Academic Impact:</b>\n",
    "Students have varied opinions on whether mobile phone use benefits or detracts from their academic performance. This variation suggests that the impact of mobile phones on academic success may differ based on usage patterns and individual circumstances.<br>\n",
    "<b>Health Symptoms and Precautions:</b>\n",
    "A range of health symptoms related to mobile phone use, such as sleep disturbances, headaches, and anxiety, are reported by students. The frequency of these symptoms varies, with some students experiencing them regularly.\n",
    "Precautions taken to mitigate health risks include using blue light filters, limiting screen time, and taking breaks, though not all students adopt these measures.\n"
   ]
  },
  {
   "cell_type": "markdown",
   "id": "aec03024-117b-4a03-8667-7de792727070",
   "metadata": {},
   "source": [
    "# Data Preparation\n",
    "<b>1.Data Import:</b><br>\n",
    "Loaded the dataset from a CSV file into a DataFrame to make it ready for analysis.<br>\n",
    "<b>2.Handling Missing Values:</b><br>\n",
    "Checked for and addressed missing data by either filling in gaps with default values or removing incomplete rows to ensure a complete dataset.<br>\n",
    "<b>3.Data Transformation:</b><br>\n",
    "<b>Categorical Encoding:</b> Converted text-based categories (e.g., mobile phone usage patterns) into numerical values for easier analysis.<br>\n",
    "<b>Age Data Normalization: </b>Changed age ranges into average values to simplify the analysis.<br>\n",
    "\n",
    "\n",
    "The data preparation involves importing and cleaning the dataset, converting categorical and numerical data into usable formats, creating new features for better analysis, and handling outliers. These steps made the dataset ready for detailed exploration and modeling."
   ]
  },
  {
   "cell_type": "code",
   "execution_count": 40,
   "id": "7d20af13-8b65-4fee-aba1-ad30bc8c7cbf",
   "metadata": {},
   "outputs": [],
   "source": [
    "import pandas as pd\n",
    "import matplotlib.pyplot as plt\n",
    "import seaborn as sns\n",
    "\n",
    "# Load dataset\n",
    "data = pd.read_csv(\"data/Impact_of_Mobile_Phone_on_Students_Health.txt\")\n",
    "# Convert age ranges to midpoints\n",
    "def convert_age_range(age_range):\n",
    "    if '-' in age_range:\n",
    "        lower, upper = age_range.split('-')\n",
    "        return (int(lower) + int(upper)) / 2\n",
    "    return float(age_range)\n",
    "\n",
    "data['Age'] = data['Age'].apply(convert_age_range)\n"
   ]
  },
  {
   "cell_type": "code",
   "execution_count": 41,
   "id": "febef255-7651-408d-9a17-c12c239d48f5",
   "metadata": {},
   "outputs": [
    {
     "data": {
      "text/plain": [
       "Names                             0\n",
       "Age                               0\n",
       "Gender                            0\n",
       "Mobile Phone                      0\n",
       "Mobile Operating System           0\n",
       "Mobile phone use for education    2\n",
       "Mobile phone activities           1\n",
       "Helpful for studying              2\n",
       "Educational Apps                  2\n",
       "Daily usages                      1\n",
       "Performance impact                2\n",
       "Usage distraction                 2\n",
       "Attention span                    1\n",
       "Useful features                   2\n",
       "Health Risks                      2\n",
       "Beneficial subject                1\n",
       "Usage symptoms                    2\n",
       "Symptom frequency                 1\n",
       "Health precautions                1\n",
       "Health rating                     1\n",
       "dtype: int64"
      ]
     },
     "execution_count": 41,
     "metadata": {},
     "output_type": "execute_result"
    }
   ],
   "source": [
    "data.isnull().sum()\n"
   ]
  },
  {
   "cell_type": "code",
   "execution_count": 42,
   "id": "a206649d-9001-469f-83b0-627bffb7be4b",
   "metadata": {},
   "outputs": [],
   "source": [
    "data = data.dropna()"
   ]
  },
  {
   "cell_type": "markdown",
   "id": "c0afb474-e226-4afb-a0c7-ebcbf7ffe293",
   "metadata": {},
   "source": [
    "<b>Daily usages Normalization</b> Convert Daily usages to a numerical format:This approach makes your data ready for analysis or machine learning models by transforming qualitative descriptions into quantitative values."
   ]
  },
  {
   "cell_type": "code",
   "execution_count": 43,
   "id": "8b6094b3-2f58-49b4-90a6-003b2dada6a4",
   "metadata": {},
   "outputs": [],
   "source": [
    "def convert_usage_to_hours(usage):\n",
    "    if '-' in usage:  # e.g., \"4-6 hours\"\n",
    "        lower, upper = usage.replace('hours', '').strip().split('-')\n",
    "        return (int(lower) + int(upper)) / 2\n",
    "    elif '>' in usage:  # e.g., \"> 6 hours\"\n",
    "        return int(usage.replace('>', '').replace('hours', '').strip())\n",
    "    elif '<' in usage:  # e.g., \"< 2 hours\"\n",
    "        return float(usage.replace('<', '').replace('hours', '').strip()) - 0.5\n",
    "    elif 'hours' in usage:  # e.g., \"4 hours\"\n",
    "        return int(usage.replace('hours', '').strip())\n",
    "    else:\n",
    "        return None\n",
    "\n",
    "# Apply the function to the 'Daily usages' column\n",
    "data['Daily usages Hours'] = data['Daily usages'].apply(convert_usage_to_hours)"
   ]
  },
  {
   "cell_type": "code",
   "execution_count": 11,
   "id": "562db837-5051-432a-855e-b16017b3d989",
   "metadata": {},
   "outputs": [
    {
     "data": {
      "text/html": [
       "<div>\n",
       "<style scoped>\n",
       "    .dataframe tbody tr th:only-of-type {\n",
       "        vertical-align: middle;\n",
       "    }\n",
       "\n",
       "    .dataframe tbody tr th {\n",
       "        vertical-align: top;\n",
       "    }\n",
       "\n",
       "    .dataframe thead th {\n",
       "        text-align: right;\n",
       "    }\n",
       "</style>\n",
       "<table border=\"1\" class=\"dataframe\">\n",
       "  <thead>\n",
       "    <tr style=\"text-align: right;\">\n",
       "      <th></th>\n",
       "      <th>Names</th>\n",
       "      <th>Age</th>\n",
       "      <th>Gender</th>\n",
       "      <th>Mobile Phone</th>\n",
       "      <th>Mobile Operating System</th>\n",
       "      <th>Mobile phone use for education</th>\n",
       "      <th>Mobile phone activities</th>\n",
       "      <th>Helpful for studying</th>\n",
       "      <th>Educational Apps</th>\n",
       "      <th>Daily usages</th>\n",
       "      <th>...</th>\n",
       "      <th>Usage distraction</th>\n",
       "      <th>Attention span</th>\n",
       "      <th>Useful features</th>\n",
       "      <th>Health Risks</th>\n",
       "      <th>Beneficial subject</th>\n",
       "      <th>Usage symptoms</th>\n",
       "      <th>Symptom frequency</th>\n",
       "      <th>Health precautions</th>\n",
       "      <th>Health rating</th>\n",
       "      <th>Daily usages Hours</th>\n",
       "    </tr>\n",
       "  </thead>\n",
       "  <tbody>\n",
       "    <tr>\n",
       "      <th>0</th>\n",
       "      <td>Ali</td>\n",
       "      <td>23.0</td>\n",
       "      <td>Male</td>\n",
       "      <td>Yes</td>\n",
       "      <td>Android</td>\n",
       "      <td>Sometimes</td>\n",
       "      <td>Social Media</td>\n",
       "      <td>Yes</td>\n",
       "      <td>Educational Videos</td>\n",
       "      <td>4-6 hours</td>\n",
       "      <td>...</td>\n",
       "      <td>During Exams</td>\n",
       "      <td>Yes</td>\n",
       "      <td>Camera</td>\n",
       "      <td>Yes</td>\n",
       "      <td>Accounting</td>\n",
       "      <td>Headache</td>\n",
       "      <td>Never</td>\n",
       "      <td>Using Blue light filter</td>\n",
       "      <td>Excellent</td>\n",
       "      <td>5.0</td>\n",
       "    </tr>\n",
       "    <tr>\n",
       "      <th>1</th>\n",
       "      <td>Bilal</td>\n",
       "      <td>23.0</td>\n",
       "      <td>Male</td>\n",
       "      <td>Yes</td>\n",
       "      <td>Android</td>\n",
       "      <td>Sometimes</td>\n",
       "      <td>Social Media</td>\n",
       "      <td>Yes</td>\n",
       "      <td>Educational Videos</td>\n",
       "      <td>4-6 hours</td>\n",
       "      <td>...</td>\n",
       "      <td>During Exams</td>\n",
       "      <td>Yes</td>\n",
       "      <td>Notes Taking App</td>\n",
       "      <td>Yes</td>\n",
       "      <td>Browsing Material</td>\n",
       "      <td>All of these</td>\n",
       "      <td>Sometimes</td>\n",
       "      <td>Taking Break during prolonged use</td>\n",
       "      <td>Good</td>\n",
       "      <td>5.0</td>\n",
       "    </tr>\n",
       "    <tr>\n",
       "      <th>2</th>\n",
       "      <td>Hammad</td>\n",
       "      <td>23.0</td>\n",
       "      <td>Male</td>\n",
       "      <td>Yes</td>\n",
       "      <td>IOS</td>\n",
       "      <td>Sometimes</td>\n",
       "      <td>All of these</td>\n",
       "      <td>Yes</td>\n",
       "      <td>Educational Videos</td>\n",
       "      <td>4-6 hours</td>\n",
       "      <td>...</td>\n",
       "      <td>Not Distracting</td>\n",
       "      <td>No</td>\n",
       "      <td>Camera</td>\n",
       "      <td>Yes</td>\n",
       "      <td>Browsing Material</td>\n",
       "      <td>All of these</td>\n",
       "      <td>Sometimes</td>\n",
       "      <td>None of Above</td>\n",
       "      <td>Excellent</td>\n",
       "      <td>5.0</td>\n",
       "    </tr>\n",
       "    <tr>\n",
       "      <th>4</th>\n",
       "      <td>Waqar</td>\n",
       "      <td>23.0</td>\n",
       "      <td>Male</td>\n",
       "      <td>Yes</td>\n",
       "      <td>IOS</td>\n",
       "      <td>Frequently</td>\n",
       "      <td>All of these</td>\n",
       "      <td>Yes</td>\n",
       "      <td>Educational Videos</td>\n",
       "      <td>&gt; 6 hours</td>\n",
       "      <td>...</td>\n",
       "      <td>While Studying</td>\n",
       "      <td>Yes</td>\n",
       "      <td>Internet Access</td>\n",
       "      <td>No</td>\n",
       "      <td>Browsing Material</td>\n",
       "      <td>Sleep disturbance</td>\n",
       "      <td>Sometimes</td>\n",
       "      <td>None of Above</td>\n",
       "      <td>Excellent</td>\n",
       "      <td>6.0</td>\n",
       "    </tr>\n",
       "    <tr>\n",
       "      <th>5</th>\n",
       "      <td>Aammar</td>\n",
       "      <td>23.0</td>\n",
       "      <td>Male</td>\n",
       "      <td>Yes</td>\n",
       "      <td>Android</td>\n",
       "      <td>Rarely</td>\n",
       "      <td>All of these</td>\n",
       "      <td>Yes</td>\n",
       "      <td>Educational Videos</td>\n",
       "      <td>&gt; 6 hours</td>\n",
       "      <td>...</td>\n",
       "      <td>Not Distracting</td>\n",
       "      <td>Yes</td>\n",
       "      <td>Internet Access</td>\n",
       "      <td>Only Partially</td>\n",
       "      <td>Reasarch</td>\n",
       "      <td>Headache</td>\n",
       "      <td>Sometimes</td>\n",
       "      <td>None of Above</td>\n",
       "      <td>Good</td>\n",
       "      <td>6.0</td>\n",
       "    </tr>\n",
       "  </tbody>\n",
       "</table>\n",
       "<p>5 rows × 21 columns</p>\n",
       "</div>"
      ],
      "text/plain": [
       "    Names   Age Gender  Mobile Phone  Mobile Operating System   \\\n",
       "0     Ali  23.0    Male           Yes                  Android   \n",
       "1   Bilal  23.0    Male           Yes                  Android   \n",
       "2  Hammad  23.0    Male           Yes                      IOS   \n",
       "4   Waqar  23.0    Male           Yes                      IOS   \n",
       "5  Aammar  23.0    Male           Yes                  Android   \n",
       "\n",
       "  Mobile phone use for education Mobile phone activities Helpful for studying  \\\n",
       "0                      Sometimes            Social Media                  Yes   \n",
       "1                      Sometimes            Social Media                  Yes   \n",
       "2                      Sometimes            All of these                  Yes   \n",
       "4                     Frequently            All of these                  Yes   \n",
       "5                         Rarely            All of these                  Yes   \n",
       "\n",
       "     Educational Apps Daily usages  ... Usage distraction Attention span  \\\n",
       "0  Educational Videos    4-6 hours  ...      During Exams            Yes   \n",
       "1  Educational Videos    4-6 hours  ...      During Exams            Yes   \n",
       "2  Educational Videos    4-6 hours  ...   Not Distracting             No   \n",
       "4  Educational Videos    > 6 hours  ...    While Studying            Yes   \n",
       "5  Educational Videos    > 6 hours  ...   Not Distracting            Yes   \n",
       "\n",
       "    Useful features    Health Risks Beneficial subject     Usage symptoms  \\\n",
       "0            Camera             Yes         Accounting           Headache   \n",
       "1  Notes Taking App             Yes  Browsing Material       All of these   \n",
       "2            Camera             Yes  Browsing Material       All of these   \n",
       "4   Internet Access              No  Browsing Material  Sleep disturbance   \n",
       "5   Internet Access  Only Partially           Reasarch           Headache   \n",
       "\n",
       "  Symptom frequency                 Health precautions Health rating  \\\n",
       "0             Never            Using Blue light filter     Excellent   \n",
       "1         Sometimes  Taking Break during prolonged use          Good   \n",
       "2         Sometimes                      None of Above     Excellent   \n",
       "4         Sometimes                      None of Above     Excellent   \n",
       "5         Sometimes                      None of Above          Good   \n",
       "\n",
       "  Daily usages Hours  \n",
       "0                5.0  \n",
       "1                5.0  \n",
       "2                5.0  \n",
       "4                6.0  \n",
       "5                6.0  \n",
       "\n",
       "[5 rows x 21 columns]"
      ]
     },
     "execution_count": 11,
     "metadata": {},
     "output_type": "execute_result"
    }
   ],
   "source": [
    "data.head()"
   ]
  },
  {
   "cell_type": "code",
   "execution_count": 44,
   "id": "96bdbd41-1e55-40f1-945e-c11e81f8f731",
   "metadata": {},
   "outputs": [],
   "source": [
    "usage_mapping = {'Sometime': 1, 'Frequently': 2, 'Rarely': 3}\n",
    "data['Usage Code'] = data['Mobile phone use for education'].map(usage_mapping)\n",
    "\n",
    "# Convert perceived impact to numerical values\n",
    "impact_mapping = {'Agree': 1, 'Neutral': 2, 'Strongly agree': 3}\n",
    "data['Impact Code'] = data['Performance impact'].map(impact_mapping)\n",
    "\n",
    "# Convert health symptoms frequency to numerical values\n",
    "symptom_mapping = {'Never': 0, 'Sometimes': 1, 'Rarely': 2, 'Frequently': 3}\n",
    "data['Symptoms Frequency'] = data['Symptom frequency'].map(symptom_mapping)"
   ]
  },
  {
   "cell_type": "code",
   "execution_count": 13,
   "id": "4950583f-53d5-4e62-aa40-ede147f3df70",
   "metadata": {},
   "outputs": [
    {
     "data": {
      "text/html": [
       "<div>\n",
       "<style scoped>\n",
       "    .dataframe tbody tr th:only-of-type {\n",
       "        vertical-align: middle;\n",
       "    }\n",
       "\n",
       "    .dataframe tbody tr th {\n",
       "        vertical-align: top;\n",
       "    }\n",
       "\n",
       "    .dataframe thead th {\n",
       "        text-align: right;\n",
       "    }\n",
       "</style>\n",
       "<table border=\"1\" class=\"dataframe\">\n",
       "  <thead>\n",
       "    <tr style=\"text-align: right;\">\n",
       "      <th></th>\n",
       "      <th>Age</th>\n",
       "      <th>Daily usages Hours</th>\n",
       "      <th>Usage Code</th>\n",
       "      <th>Impact Code</th>\n",
       "      <th>Symptoms Frequency</th>\n",
       "    </tr>\n",
       "  </thead>\n",
       "  <tbody>\n",
       "    <tr>\n",
       "      <th>count</th>\n",
       "      <td>91.000000</td>\n",
       "      <td>91.000000</td>\n",
       "      <td>30.000000</td>\n",
       "      <td>75.000000</td>\n",
       "      <td>91.000000</td>\n",
       "    </tr>\n",
       "    <tr>\n",
       "      <th>mean</th>\n",
       "      <td>22.835165</td>\n",
       "      <td>4.532967</td>\n",
       "      <td>2.233333</td>\n",
       "      <td>1.640000</td>\n",
       "      <td>1.241758</td>\n",
       "    </tr>\n",
       "    <tr>\n",
       "      <th>std</th>\n",
       "      <td>2.929785</td>\n",
       "      <td>1.335004</td>\n",
       "      <td>0.430183</td>\n",
       "      <td>0.728568</td>\n",
       "      <td>0.807474</td>\n",
       "    </tr>\n",
       "    <tr>\n",
       "      <th>min</th>\n",
       "      <td>18.000000</td>\n",
       "      <td>1.500000</td>\n",
       "      <td>2.000000</td>\n",
       "      <td>1.000000</td>\n",
       "      <td>0.000000</td>\n",
       "    </tr>\n",
       "    <tr>\n",
       "      <th>25%</th>\n",
       "      <td>23.000000</td>\n",
       "      <td>3.000000</td>\n",
       "      <td>2.000000</td>\n",
       "      <td>1.000000</td>\n",
       "      <td>1.000000</td>\n",
       "    </tr>\n",
       "    <tr>\n",
       "      <th>50%</th>\n",
       "      <td>23.000000</td>\n",
       "      <td>5.000000</td>\n",
       "      <td>2.000000</td>\n",
       "      <td>1.000000</td>\n",
       "      <td>1.000000</td>\n",
       "    </tr>\n",
       "    <tr>\n",
       "      <th>75%</th>\n",
       "      <td>23.000000</td>\n",
       "      <td>5.500000</td>\n",
       "      <td>2.000000</td>\n",
       "      <td>2.000000</td>\n",
       "      <td>2.000000</td>\n",
       "    </tr>\n",
       "    <tr>\n",
       "      <th>max</th>\n",
       "      <td>33.000000</td>\n",
       "      <td>6.000000</td>\n",
       "      <td>3.000000</td>\n",
       "      <td>3.000000</td>\n",
       "      <td>3.000000</td>\n",
       "    </tr>\n",
       "  </tbody>\n",
       "</table>\n",
       "</div>"
      ],
      "text/plain": [
       "             Age  Daily usages Hours  Usage Code  Impact Code  \\\n",
       "count  91.000000           91.000000   30.000000    75.000000   \n",
       "mean   22.835165            4.532967    2.233333     1.640000   \n",
       "std     2.929785            1.335004    0.430183     0.728568   \n",
       "min    18.000000            1.500000    2.000000     1.000000   \n",
       "25%    23.000000            3.000000    2.000000     1.000000   \n",
       "50%    23.000000            5.000000    2.000000     1.000000   \n",
       "75%    23.000000            5.500000    2.000000     2.000000   \n",
       "max    33.000000            6.000000    3.000000     3.000000   \n",
       "\n",
       "       Symptoms Frequency  \n",
       "count           91.000000  \n",
       "mean             1.241758  \n",
       "std              0.807474  \n",
       "min              0.000000  \n",
       "25%              1.000000  \n",
       "50%              1.000000  \n",
       "75%              2.000000  \n",
       "max              3.000000  "
      ]
     },
     "execution_count": 13,
     "metadata": {},
     "output_type": "execute_result"
    }
   ],
   "source": [
    "data.describe()"
   ]
  },
  {
   "cell_type": "code",
   "execution_count": 45,
   "id": "117be0f8-0697-422b-9e7a-b3967a7ac75a",
   "metadata": {},
   "outputs": [],
   "source": [
    "from sklearn.preprocessing import LabelEncoder\n",
    "\n",
    "# Initialize LabelEncoder\n",
    "label_encoder = LabelEncoder()\n",
    "\n",
    "# Convert categorical variables\n",
    "data['Gender Code'] = label_encoder.fit_transform(data['Gender '])\n",
    "data['Mobile Phone Code'] = label_encoder.fit_transform(data['Mobile Phone '])\n",
    "data['Mobile Operating System Code'] = label_encoder.fit_transform(data['Mobile Operating System '])\n",
    "data['Mobile phone use for education Code'] = label_encoder.fit_transform(data['Mobile phone use for education'])\n",
    "data['Performance impact Code'] = label_encoder.fit_transform(data['Performance impact'])\n",
    "data['Usage distraction Code'] = label_encoder.fit_transform(data['Usage distraction'])\n",
    "data['Attention span Code'] = label_encoder.fit_transform(data['Attention span'])\n",
    "data['Helpful for studying Code'] = label_encoder.fit_transform(data['Helpful for studying'])\n",
    "data['Health Risks Code'] = label_encoder.fit_transform(data['Health Risks'])\n",
    "data['Health precautions Code'] = label_encoder.fit_transform(data['Health precautions'])\n",
    "data['Health rating Code'] = label_encoder.fit_transform(data['Health rating'])\n",
    "data['Usage symptoms Code'] = label_encoder.fit_transform(data['Usage symptoms'])\n",
    "data['Beneficial subject Code'] = label_encoder.fit_transform(data['Beneficial subject'])"
   ]
  },
  {
   "cell_type": "code",
   "execution_count": 46,
   "id": "3f643475-4da5-4667-a056-e0911e9fb8cb",
   "metadata": {},
   "outputs": [],
   "source": [
    "from sklearn.preprocessing import StandardScaler\n",
    "scaler = StandardScaler()\n",
    "data[['Age', 'Daily usages Hours']] = scaler.fit_transform(data[['Age', 'Daily usages Hours']])"
   ]
  },
  {
   "cell_type": "code",
   "execution_count": 15,
   "id": "5673c59a-a316-4d38-9cfb-44371de72f65",
   "metadata": {},
   "outputs": [
    {
     "name": "stdout",
     "output_type": "stream",
     "text": [
      "<class 'pandas.core.frame.DataFrame'>\n",
      "Index: 91 entries, 0 to 99\n",
      "Data columns (total 37 columns):\n",
      " #   Column                               Non-Null Count  Dtype  \n",
      "---  ------                               --------------  -----  \n",
      " 0   Names                                91 non-null     object \n",
      " 1   Age                                  91 non-null     float64\n",
      " 2   Gender                               91 non-null     object \n",
      " 3   Mobile Phone                         91 non-null     object \n",
      " 4   Mobile Operating System              91 non-null     object \n",
      " 5   Mobile phone use for education       91 non-null     object \n",
      " 6   Mobile phone activities              91 non-null     object \n",
      " 7   Helpful for studying                 91 non-null     object \n",
      " 8   Educational Apps                     91 non-null     object \n",
      " 9   Daily usages                         91 non-null     object \n",
      " 10  Performance impact                   91 non-null     object \n",
      " 11  Usage distraction                    91 non-null     object \n",
      " 12  Attention span                       91 non-null     object \n",
      " 13  Useful features                      91 non-null     object \n",
      " 14  Health Risks                         91 non-null     object \n",
      " 15  Beneficial subject                   91 non-null     object \n",
      " 16  Usage symptoms                       91 non-null     object \n",
      " 17  Symptom frequency                    91 non-null     object \n",
      " 18  Health precautions                   91 non-null     object \n",
      " 19  Health rating                        91 non-null     object \n",
      " 20  Daily usages Hours                   91 non-null     float64\n",
      " 21  Usage Code                           30 non-null     float64\n",
      " 22  Impact Code                          75 non-null     float64\n",
      " 23  Symptoms Frequency                   91 non-null     int64  \n",
      " 24  Gender Code                          91 non-null     int64  \n",
      " 25  Mobile Phone Code                    91 non-null     int64  \n",
      " 26  Mobile Operating System Code         91 non-null     int64  \n",
      " 27  Mobile phone use for education Code  91 non-null     int64  \n",
      " 28  Performance impact Code              91 non-null     int64  \n",
      " 29  Usage distraction Code               91 non-null     int64  \n",
      " 30  Attention span Code                  91 non-null     int64  \n",
      " 31  Helpful for studying Code            91 non-null     int64  \n",
      " 32  Health Risks Code                    91 non-null     int64  \n",
      " 33  Health precautions Code              91 non-null     int64  \n",
      " 34  Health rating Code                   91 non-null     int64  \n",
      " 35  Usage symptoms Code                  91 non-null     int64  \n",
      " 36  Beneficial subject Code              91 non-null     int64  \n",
      "dtypes: float64(4), int64(14), object(19)\n",
      "memory usage: 27.0+ KB\n"
     ]
    }
   ],
   "source": [
    "data.info()\n"
   ]
  },
  {
   "cell_type": "markdown",
   "id": "46260a2b-f4a2-4bf8-9628-dc74c36d6f6e",
   "metadata": {},
   "source": [
    "# Exploratory Data Analysis (EDA)\n",
    "Below are some key visualizations and insights obtained from the data:<br>\n",
    "<b> Impact of Mobile Phone Use on Academic Performance:\n",
    "</b><br>\n",
    "<b>Observation:</b>Analyze the distribution of responses regarding how mobile phone use affects academic performance (e.g., Positive, Neutral, Negative).<br>\n",
    "<b>Visualization:</b>\n",
    "Bar chart showing students' perceptions of how mobile phone use impacts their academic performance."
   ]
  },
  {
   "cell_type": "code",
   "execution_count": 16,
   "id": "3f2b8149-8a50-4785-8296-2f2e7f9727c7",
   "metadata": {},
   "outputs": [
    {
     "name": "stderr",
     "output_type": "stream",
     "text": [
      "/var/folders/tr/k6p_v_xx1hx5281_0lzfgbb80000gn/T/ipykernel_71608/3225292845.py:2: FutureWarning: \n",
      "\n",
      "Passing `palette` without assigning `hue` is deprecated and will be removed in v0.14.0. Assign the `x` variable to `hue` and set `legend=False` for the same effect.\n",
      "\n",
      "  sns.countplot(x='Performance impact', data=data, palette='plasma')\n"
     ]
    },
    {
     "data": {
      "image/png": "[encoded data removed]",
      "text/plain": [
       "<Figure size 1200x600 with 1 Axes>"
      ]
     },
     "metadata": {},
     "output_type": "display_data"
    }
   ],
   "source": [
    "plt.figure(figsize=(12, 6))\n",
    "sns.countplot(x='Performance impact', data=data, palette='plasma')\n",
    "plt.title('Perceived Impact of Mobile Phone Use on Academic Performance')\n",
    "plt.xlabel('Perceived Impact')\n",
    "plt.ylabel('Number of Students')\n",
    "plt.grid(True)\n",
    "plt.savefig('performance_impact_bar_chart.png')\n",
    "plt.show()"
   ]
  },
  {
   "cell_type": "markdown",
   "id": "9ed11da6-0a81-4cee-838e-6e370ea3b7b6",
   "metadata": {},
   "source": [
    "<b>Health Precautions Taken:</b><br>\n",
    "<b>Observation:</b>The pie chart shows the different health precautions students take to mitigate the risks associated with mobile phone use, such as using blue light filters and limiting screen time.<br>\n",
    "<b>Visualization:</b>\n",
    "The pie chart indicates the extent to which students are aware of and take precautions against health risks associated with mobile phone use, with some taking proactive measures and others not."
   ]
  },
  {
   "cell_type": "code",
   "execution_count": 17,
   "id": "c659b614-b505-401f-85be-e230c345164e",
   "metadata": {},
   "outputs": [
    {
     "data": {
      "image/png": "[encoded data removed]",
      "text/plain": [
       "<Figure size 800x800 with 1 Axes>"
      ]
     },
     "metadata": {},
     "output_type": "display_data"
    }
   ],
   "source": [
    "precautions_counts = data['Health precautions'].value_counts()\n",
    "plt.figure(figsize=(8, 8))\n",
    "plt.pie(precautions_counts, labels=precautions_counts.index, autopct='%1.1f%%', startangle=140, colors=['#99ff99','#ffcc99','#c2c2f0','#ffb3e6'])\n",
    "plt.title('Health Precautions Taken by Students')\n",
    "plt.savefig('health_precautions_pie_chart.png')\n",
    "plt.show()"
   ]
  },
  {
   "cell_type": "markdown",
   "id": "fc891866-f528-4e9a-8d61-f396c80c9821",
   "metadata": {},
   "source": [
    "<b>Health Symptoms and Their Relationship with Academic Performance:</b><br>\n",
    "<b>Observation:</b>Bar chart showing the frequency of various health symptoms and their association with perceived academic performance<br>\n",
    "<b>Visualization:</b>\n",
    "Determine if students experiencing more frequent symptoms (e.g., sleep disturbances, anxiety) report different impacts on academic performance."
   ]
  },
  {
   "cell_type": "code",
   "execution_count": 18,
   "id": "a5f5e96b-8113-4e78-a3ae-9c5b38f62ea7",
   "metadata": {},
   "outputs": [
    {
     "name": "stderr",
     "output_type": "stream",
     "text": [
      "/var/folders/tr/k6p_v_xx1hx5281_0lzfgbb80000gn/T/ipykernel_71608/2323496303.py:2: FutureWarning: \n",
      "\n",
      "Passing `palette` without assigning `hue` is deprecated and will be removed in v0.14.0. Assign the `x` variable to `hue` and set `legend=False` for the same effect.\n",
      "\n",
      "  sns.countplot(x='Usage symptoms', data=data, palette='viridis')\n"
     ]
    },
    {
     "data": {
      "image/png": "[encoded data removed]",
      "text/plain": [
       "<Figure size 1200x600 with 1 Axes>"
      ]
     },
     "metadata": {},
     "output_type": "display_data"
    }
   ],
   "source": [
    "plt.figure(figsize=(12, 6))\n",
    "sns.countplot(x='Usage symptoms', data=data, palette='viridis')\n",
    "plt.title('Frequency of Health Symptoms Related to Mobile Phone Use')\n",
    "plt.xlabel('Health Symptoms')\n",
    "plt.ylabel('Number of Students')\n",
    "plt.xticks(rotation=45)\n",
    "plt.grid(True)\n",
    "plt.savefig('health_symptoms_frequency_bar_chart.png')\n",
    "plt.show()"
   ]
  },
  {
   "cell_type": "markdown",
   "id": "424b35e5-5573-4c86-90cb-e3c42082ac64",
   "metadata": {},
   "source": [
    "<b>Relationship Between Mobile Phone Usage Patterns and Academic Performance</b><br>\n",
    "<b>Observation:</b> Identify if more frequent usage is associated with better or worse academic performance.<br>\n",
    "<b>Visualization:</b>\n",
    "Scatter plot or box plot to analyze how different patterns of mobile phone usage for educational purposes (e.g., Sometime, Frequently, Rarely) correlate with perceived academic performance.\n"
   ]
  },
  {
   "cell_type": "code",
   "execution_count": 19,
   "id": "afd48573-2f26-4da3-9dfb-024d45a5f33b",
   "metadata": {},
   "outputs": [
    {
     "name": "stderr",
     "output_type": "stream",
     "text": [
      "/var/folders/tr/k6p_v_xx1hx5281_0lzfgbb80000gn/T/ipykernel_71608/3970244760.py:6: FutureWarning: \n",
      "\n",
      "Passing `palette` without assigning `hue` is deprecated and will be removed in v0.14.0. Assign the `y` variable to `hue` and set `legend=False` for the same effect.\n",
      "\n",
      "  sns.boxplot(x='Usage Code', y='Performance impact', data=data, palette='coolwarm')\n"
     ]
    },
    {
     "data": {
      "image/png": "[encoded data removed]",
      "text/plain": [
       "<Figure size 1200x600 with 1 Axes>"
      ]
     },
     "metadata": {},
     "output_type": "display_data"
    }
   ],
   "source": [
    "usage_mapping = {'Sometime': 1, 'Frequently': 2, 'Rarely': 3}\n",
    "data['Usage Code'] = data['Mobile phone use for education'].map(usage_mapping)\n",
    "\n",
    "# Scatter plot for usage patterns vs. performance impact\n",
    "plt.figure(figsize=(12, 6))\n",
    "sns.boxplot(x='Usage Code', y='Performance impact', data=data, palette='coolwarm')\n",
    "plt.title('Effect of Mobile Phone Usage Patterns on Perceived Academic Performance')\n",
    "plt.xlabel('Mobile Phone Usage Pattern')\n",
    "plt.ylabel('Perceived Impact on Academic Performance')\n",
    "plt.xticks([0, 1, 2], ['Sometime', 'Frequently', 'Rarely'])\n",
    "plt.grid(True)\n",
    "plt.savefig('usage_patterns_vs_performance_impact.png')\n",
    "plt.show()"
   ]
  },
  {
   "cell_type": "markdown",
   "id": "4a136196-6801-47d3-beb1-c10bb8b2a074",
   "metadata": {},
   "source": [
    "# Data Preparation for Modeling\n",
    "Data splitting is a critical step in getting your data ready for machine learning. It entails dividing your data into two parts: one to train the model and the other to test how well the model performs. This ensures that the model is tested on new data that it has not previously encountered, giving a better idea of how well it can handle new situations.<br>\n",
    "<b>Split the Data:</b><br>\n",
    "<b>Training Set:</b> This subset of data is used to train the model. It assists the model in determining the relationship between features and the target variable.<br>\n",
    "<b>Test Set:</b> This portion is set aside and used to assess the model's performance. It ensures that the model can generalize to new, previously unseen data sets.<br>\n",
    "Splitting your data into training and test sets is a key step in building a strong machine learning model. It allows you to check how well the model works and ensures it can handle new, unseen data effectively."
   ]
  },
  {
   "cell_type": "code",
   "execution_count": 73,
   "id": "2ab1d09f-2496-4c03-a802-87a0573fae16",
   "metadata": {},
   "outputs": [],
   "source": [
    "from sklearn.model_selection import train_test_split\n",
    "# Define features and target variable\n",
    "X = data[['Age', 'Gender Code', 'Mobile Phone Code', 'Mobile Operating System Code',\n",
    "          'Mobile phone use for education Code', 'Daily usages Hours',\n",
    "          'Performance impact Code', 'Usage distraction Code',\n",
    "          'Attention span Code', 'Helpful for studying Code',\n",
    "          'Health Risks Code', 'Health precautions Code',\n",
    "          'Health rating Code', 'Usage symptoms Code', 'Beneficial subject Code']]\n",
    "\n",
    "\n",
    "y = data[['Performance impact Code']].rename(columns={'Performance impact Code': 'Target'}) # Assuming 'Performance impact' as target\n",
    "\n",
    "# Split the data into training and test sets\n",
    "X_train, X_test, y_train, y_test = train_test_split(X, y, test_size=0.3, random_state=42)"
   ]
  },
  {
   "cell_type": "code",
   "execution_count": 74,
   "id": "19e58562-600f-407c-a4d1-bf68a02b95d5",
   "metadata": {},
   "outputs": [
    {
     "name": "stdout",
     "output_type": "stream",
     "text": [
      "Age                                    0\n",
      "Gender Code                            0\n",
      "Mobile Phone Code                      0\n",
      "Mobile Operating System Code           0\n",
      "Mobile phone use for education Code    0\n",
      "Daily usages Hours                     0\n",
      "Performance impact Code                0\n",
      "Usage distraction Code                 0\n",
      "Attention span Code                    0\n",
      "Helpful for studying Code              0\n",
      "Health Risks Code                      0\n",
      "Health precautions Code                0\n",
      "Health rating Code                     0\n",
      "Usage symptoms Code                    0\n",
      "Beneficial subject Code                0\n",
      "dtype: int64\n",
      "Age                                    0\n",
      "Gender Code                            0\n",
      "Mobile Phone Code                      0\n",
      "Mobile Operating System Code           0\n",
      "Mobile phone use for education Code    0\n",
      "Daily usages Hours                     0\n",
      "Performance impact Code                0\n",
      "Usage distraction Code                 0\n",
      "Attention span Code                    0\n",
      "Helpful for studying Code              0\n",
      "Health Risks Code                      0\n",
      "Health precautions Code                0\n",
      "Health rating Code                     0\n",
      "Usage symptoms Code                    0\n",
      "Beneficial subject Code                0\n",
      "dtype: int64\n",
      "Target\n",
      "0         27\n",
      "2         14\n",
      "3          9\n",
      "4          8\n",
      "1          5\n",
      "Name: count, dtype: int64\n",
      "Target\n",
      "2         12\n",
      "0         11\n",
      "1          2\n",
      "3          2\n",
      "4          1\n",
      "Name: count, dtype: int64\n"
     ]
    }
   ],
   "source": [
    "print(X_train.isnull().sum())\n",
    "print(X_test.isnull().sum())\n",
    "print(y_train.value_counts())\n",
    "print(y_test.value_counts())"
   ]
  },
  {
   "cell_type": "markdown",
   "id": "75c603bf-c29f-4d31-bcf5-bbdd8e6b396d",
   "metadata": {},
   "source": [
    "# Modeling\n",
    "Using various modeling techniques, we investigated the impact of mobile phone usage on students' academic performance and health. We began with PyCaret, a tool that facilitates the testing and comparison of various machine learning models. PyCaret made it simple to set up our data and test different models to determine which one performed best. We also used <b>Logistic Regression ,GBM, DecisionTreeClassifier and Random Forest models</b>, which are well-known for their accuracy when classifying data.<br>\n",
    "\n",
    "We first prepared the data by changing text into numbers and fixing any missing or incorrect details. After setting up and running different models, we checked how well each one worked by measuring their accuracy. PyCaret helped us by giving a clear summary of each model’s performance, allowing us to pick the most accurate one for predicting academic performance.<br>\n",
    "\n",
    "Next, we used K-Means clustering to group students based on their phone usage and health information. This method helps us find patterns and similarities among students with similar phone habits. We then visualized these groups to see how students are clustered and to discover important trends.<br>\n",
    "\n",
    "We compared the performance of various models to determine which one made the best predictions. We obtained a comprehensive picture of how mobile phone usage affects students by employing both classification models and clustering methods. This method assisted us in understanding phone usage patterns and their impact on students' academic performance and health. Simply put, this method allowed us to examine how various phone habits relate to students' grades and well-being."
   ]
  },
  {
   "cell_type": "markdown",
   "id": "48c8efec-9345-4320-a0b2-24f88d3c0c21",
   "metadata": {},
   "source": [
    "<b>PyCaret</b> is a powerful tool for simplifying and accelerating the machine learning process, making it easier to build, evaluate, and deploy models efficiently."
   ]
  },
  {
   "cell_type": "code",
   "execution_count": 84,
   "id": "3a93f1cc-171c-49c6-9660-c7b3804c72c7",
   "metadata": {},
   "outputs": [
    {
     "data": {
      "text/html": [
       "<style type=\"text/css\">\n",
       "#T_0a98a_row8_col1 {\n",
       "  background-color: lightgreen;\n",
       "}\n",
       "</style>\n",
       "<table id=\"T_0a98a\">\n",
       "  <thead>\n",
       "    <tr>\n",
       "      <th class=\"blank level0\" >&nbsp;</th>\n",
       "      <th id=\"T_0a98a_level0_col0\" class=\"col_heading level0 col0\" >Description</th>\n",
       "      <th id=\"T_0a98a_level0_col1\" class=\"col_heading level0 col1\" >Value</th>\n",
       "    </tr>\n",
       "  </thead>\n",
       "  <tbody>\n",
       "    <tr>\n",
       "      <th id=\"T_0a98a_level0_row0\" class=\"row_heading level0 row0\" >0</th>\n",
       "      <td id=\"T_0a98a_row0_col0\" class=\"data row0 col0\" >Session id</td>\n",
       "      <td id=\"T_0a98a_row0_col1\" class=\"data row0 col1\" >42</td>\n",
       "    </tr>\n",
       "    <tr>\n",
       "      <th id=\"T_0a98a_level0_row1\" class=\"row_heading level0 row1\" >1</th>\n",
       "      <td id=\"T_0a98a_row1_col0\" class=\"data row1 col0\" >Target</td>\n",
       "      <td id=\"T_0a98a_row1_col1\" class=\"data row1 col1\" >Target</td>\n",
       "    </tr>\n",
       "    <tr>\n",
       "      <th id=\"T_0a98a_level0_row2\" class=\"row_heading level0 row2\" >2</th>\n",
       "      <td id=\"T_0a98a_row2_col0\" class=\"data row2 col0\" >Target type</td>\n",
       "      <td id=\"T_0a98a_row2_col1\" class=\"data row2 col1\" >Multiclass</td>\n",
       "    </tr>\n",
       "    <tr>\n",
       "      <th id=\"T_0a98a_level0_row3\" class=\"row_heading level0 row3\" >3</th>\n",
       "      <td id=\"T_0a98a_row3_col0\" class=\"data row3 col0\" >Original data shape</td>\n",
       "      <td id=\"T_0a98a_row3_col1\" class=\"data row3 col1\" >(91, 16)</td>\n",
       "    </tr>\n",
       "    <tr>\n",
       "      <th id=\"T_0a98a_level0_row4\" class=\"row_heading level0 row4\" >4</th>\n",
       "      <td id=\"T_0a98a_row4_col0\" class=\"data row4 col0\" >Transformed data shape</td>\n",
       "      <td id=\"T_0a98a_row4_col1\" class=\"data row4 col1\" >(91, 16)</td>\n",
       "    </tr>\n",
       "    <tr>\n",
       "      <th id=\"T_0a98a_level0_row5\" class=\"row_heading level0 row5\" >5</th>\n",
       "      <td id=\"T_0a98a_row5_col0\" class=\"data row5 col0\" >Transformed train set shape</td>\n",
       "      <td id=\"T_0a98a_row5_col1\" class=\"data row5 col1\" >(63, 16)</td>\n",
       "    </tr>\n",
       "    <tr>\n",
       "      <th id=\"T_0a98a_level0_row6\" class=\"row_heading level0 row6\" >6</th>\n",
       "      <td id=\"T_0a98a_row6_col0\" class=\"data row6 col0\" >Transformed test set shape</td>\n",
       "      <td id=\"T_0a98a_row6_col1\" class=\"data row6 col1\" >(28, 16)</td>\n",
       "    </tr>\n",
       "    <tr>\n",
       "      <th id=\"T_0a98a_level0_row7\" class=\"row_heading level0 row7\" >7</th>\n",
       "      <td id=\"T_0a98a_row7_col0\" class=\"data row7 col0\" >Numeric features</td>\n",
       "      <td id=\"T_0a98a_row7_col1\" class=\"data row7 col1\" >15</td>\n",
       "    </tr>\n",
       "    <tr>\n",
       "      <th id=\"T_0a98a_level0_row8\" class=\"row_heading level0 row8\" >8</th>\n",
       "      <td id=\"T_0a98a_row8_col0\" class=\"data row8 col0\" >Preprocess</td>\n",
       "      <td id=\"T_0a98a_row8_col1\" class=\"data row8 col1\" >True</td>\n",
       "    </tr>\n",
       "    <tr>\n",
       "      <th id=\"T_0a98a_level0_row9\" class=\"row_heading level0 row9\" >9</th>\n",
       "      <td id=\"T_0a98a_row9_col0\" class=\"data row9 col0\" >Imputation type</td>\n",
       "      <td id=\"T_0a98a_row9_col1\" class=\"data row9 col1\" >simple</td>\n",
       "    </tr>\n",
       "    <tr>\n",
       "      <th id=\"T_0a98a_level0_row10\" class=\"row_heading level0 row10\" >10</th>\n",
       "      <td id=\"T_0a98a_row10_col0\" class=\"data row10 col0\" >Numeric imputation</td>\n",
       "      <td id=\"T_0a98a_row10_col1\" class=\"data row10 col1\" >mean</td>\n",
       "    </tr>\n",
       "    <tr>\n",
       "      <th id=\"T_0a98a_level0_row11\" class=\"row_heading level0 row11\" >11</th>\n",
       "      <td id=\"T_0a98a_row11_col0\" class=\"data row11 col0\" >Categorical imputation</td>\n",
       "      <td id=\"T_0a98a_row11_col1\" class=\"data row11 col1\" >mode</td>\n",
       "    </tr>\n",
       "    <tr>\n",
       "      <th id=\"T_0a98a_level0_row12\" class=\"row_heading level0 row12\" >12</th>\n",
       "      <td id=\"T_0a98a_row12_col0\" class=\"data row12 col0\" >Fold Generator</td>\n",
       "      <td id=\"T_0a98a_row12_col1\" class=\"data row12 col1\" >StratifiedKFold</td>\n",
       "    </tr>\n",
       "    <tr>\n",
       "      <th id=\"T_0a98a_level0_row13\" class=\"row_heading level0 row13\" >13</th>\n",
       "      <td id=\"T_0a98a_row13_col0\" class=\"data row13 col0\" >Fold Number</td>\n",
       "      <td id=\"T_0a98a_row13_col1\" class=\"data row13 col1\" >10</td>\n",
       "    </tr>\n",
       "    <tr>\n",
       "      <th id=\"T_0a98a_level0_row14\" class=\"row_heading level0 row14\" >14</th>\n",
       "      <td id=\"T_0a98a_row14_col0\" class=\"data row14 col0\" >CPU Jobs</td>\n",
       "      <td id=\"T_0a98a_row14_col1\" class=\"data row14 col1\" >-1</td>\n",
       "    </tr>\n",
       "    <tr>\n",
       "      <th id=\"T_0a98a_level0_row15\" class=\"row_heading level0 row15\" >15</th>\n",
       "      <td id=\"T_0a98a_row15_col0\" class=\"data row15 col0\" >Use GPU</td>\n",
       "      <td id=\"T_0a98a_row15_col1\" class=\"data row15 col1\" >False</td>\n",
       "    </tr>\n",
       "    <tr>\n",
       "      <th id=\"T_0a98a_level0_row16\" class=\"row_heading level0 row16\" >16</th>\n",
       "      <td id=\"T_0a98a_row16_col0\" class=\"data row16 col0\" >Log Experiment</td>\n",
       "      <td id=\"T_0a98a_row16_col1\" class=\"data row16 col1\" >False</td>\n",
       "    </tr>\n",
       "    <tr>\n",
       "      <th id=\"T_0a98a_level0_row17\" class=\"row_heading level0 row17\" >17</th>\n",
       "      <td id=\"T_0a98a_row17_col0\" class=\"data row17 col0\" >Experiment Name</td>\n",
       "      <td id=\"T_0a98a_row17_col1\" class=\"data row17 col1\" >clf-default-name</td>\n",
       "    </tr>\n",
       "    <tr>\n",
       "      <th id=\"T_0a98a_level0_row18\" class=\"row_heading level0 row18\" >18</th>\n",
       "      <td id=\"T_0a98a_row18_col0\" class=\"data row18 col0\" >USI</td>\n",
       "      <td id=\"T_0a98a_row18_col1\" class=\"data row18 col1\" >e19d</td>\n",
       "    </tr>\n",
       "  </tbody>\n",
       "</table>\n"
      ],
      "text/plain": [
       "<pandas.io.formats.style.Styler at 0x1549357e0>"
      ]
     },
     "metadata": {},
     "output_type": "display_data"
    },
    {
     "data": {
      "text/html": [],
      "text/plain": [
       "<IPython.core.display.HTML object>"
      ]
     },
     "metadata": {},
     "output_type": "display_data"
    },
    {
     "data": {
      "text/html": [
       "<style type=\"text/css\">\n",
       "#T_d095c th {\n",
       "  text-align: left;\n",
       "}\n",
       "#T_d095c_row0_col0, #T_d095c_row1_col0, #T_d095c_row1_col1, #T_d095c_row1_col3, #T_d095c_row1_col4, #T_d095c_row1_col5, #T_d095c_row1_col6, #T_d095c_row1_col7, #T_d095c_row2_col0, #T_d095c_row2_col1, #T_d095c_row2_col3, #T_d095c_row2_col4, #T_d095c_row2_col5, #T_d095c_row2_col6, #T_d095c_row2_col7, #T_d095c_row3_col0, #T_d095c_row3_col1, #T_d095c_row3_col3, #T_d095c_row3_col4, #T_d095c_row3_col5, #T_d095c_row3_col6, #T_d095c_row3_col7, #T_d095c_row4_col0, #T_d095c_row4_col1, #T_d095c_row4_col3, #T_d095c_row4_col4, #T_d095c_row4_col5, #T_d095c_row4_col6, #T_d095c_row4_col7, #T_d095c_row5_col0, #T_d095c_row5_col1, #T_d095c_row5_col3, #T_d095c_row5_col4, #T_d095c_row5_col5, #T_d095c_row5_col6, #T_d095c_row5_col7, #T_d095c_row6_col0, #T_d095c_row6_col1, #T_d095c_row6_col3, #T_d095c_row6_col4, #T_d095c_row6_col5, #T_d095c_row6_col6, #T_d095c_row6_col7, #T_d095c_row7_col0, #T_d095c_row7_col1, #T_d095c_row7_col3, #T_d095c_row7_col4, #T_d095c_row7_col5, #T_d095c_row7_col6, #T_d095c_row7_col7, #T_d095c_row8_col0, #T_d095c_row8_col1, #T_d095c_row8_col3, #T_d095c_row8_col4, #T_d095c_row8_col5, #T_d095c_row8_col6, #T_d095c_row8_col7, #T_d095c_row9_col0, #T_d095c_row9_col1, #T_d095c_row9_col3, #T_d095c_row9_col4, #T_d095c_row9_col5, #T_d095c_row9_col6, #T_d095c_row9_col7, #T_d095c_row10_col0, #T_d095c_row10_col1, #T_d095c_row10_col3, #T_d095c_row10_col4, #T_d095c_row10_col5, #T_d095c_row10_col6, #T_d095c_row10_col7, #T_d095c_row11_col0, #T_d095c_row11_col1, #T_d095c_row11_col3, #T_d095c_row11_col4, #T_d095c_row11_col5, #T_d095c_row11_col6, #T_d095c_row11_col7, #T_d095c_row12_col0, #T_d095c_row12_col1, #T_d095c_row12_col3, #T_d095c_row12_col4, #T_d095c_row12_col5, #T_d095c_row12_col6, #T_d095c_row12_col7, #T_d095c_row13_col0, #T_d095c_row13_col1, #T_d095c_row13_col3, #T_d095c_row13_col4, #T_d095c_row13_col5, #T_d095c_row13_col6, #T_d095c_row13_col7 {\n",
       "  text-align: left;\n",
       "}\n",
       "#T_d095c_row0_col1, #T_d095c_row0_col2, #T_d095c_row0_col3, #T_d095c_row0_col4, #T_d095c_row0_col5, #T_d095c_row0_col6, #T_d095c_row0_col7, #T_d095c_row1_col2, #T_d095c_row2_col2, #T_d095c_row3_col2, #T_d095c_row4_col2, #T_d095c_row5_col2, #T_d095c_row6_col2, #T_d095c_row7_col2, #T_d095c_row8_col2, #T_d095c_row9_col2, #T_d095c_row10_col2, #T_d095c_row11_col2, #T_d095c_row12_col2, #T_d095c_row13_col2 {\n",
       "  text-align: left;\n",
       "  background-color: yellow;\n",
       "}\n",
       "#T_d095c_row0_col8, #T_d095c_row3_col8, #T_d095c_row6_col8, #T_d095c_row10_col8, #T_d095c_row12_col8, #T_d095c_row13_col8 {\n",
       "  text-align: left;\n",
       "  background-color: yellow;\n",
       "  background-color: lightgrey;\n",
       "}\n",
       "#T_d095c_row1_col8, #T_d095c_row2_col8, #T_d095c_row4_col8, #T_d095c_row5_col8, #T_d095c_row7_col8, #T_d095c_row8_col8, #T_d095c_row9_col8, #T_d095c_row11_col8 {\n",
       "  text-align: left;\n",
       "  background-color: lightgrey;\n",
       "}\n",
       "</style>\n",
       "<table id=\"T_d095c\">\n",
       "  <thead>\n",
       "    <tr>\n",
       "      <th class=\"blank level0\" >&nbsp;</th>\n",
       "      <th id=\"T_d095c_level0_col0\" class=\"col_heading level0 col0\" >Model</th>\n",
       "      <th id=\"T_d095c_level0_col1\" class=\"col_heading level0 col1\" >Accuracy</th>\n",
       "      <th id=\"T_d095c_level0_col2\" class=\"col_heading level0 col2\" >AUC</th>\n",
       "      <th id=\"T_d095c_level0_col3\" class=\"col_heading level0 col3\" >Recall</th>\n",
       "      <th id=\"T_d095c_level0_col4\" class=\"col_heading level0 col4\" >Prec.</th>\n",
       "      <th id=\"T_d095c_level0_col5\" class=\"col_heading level0 col5\" >F1</th>\n",
       "      <th id=\"T_d095c_level0_col6\" class=\"col_heading level0 col6\" >Kappa</th>\n",
       "      <th id=\"T_d095c_level0_col7\" class=\"col_heading level0 col7\" >MCC</th>\n",
       "      <th id=\"T_d095c_level0_col8\" class=\"col_heading level0 col8\" >TT (Sec)</th>\n",
       "    </tr>\n",
       "  </thead>\n",
       "  <tbody>\n",
       "    <tr>\n",
       "      <th id=\"T_d095c_level0_row0\" class=\"row_heading level0 row0\" >dt</th>\n",
       "      <td id=\"T_d095c_row0_col0\" class=\"data row0 col0\" >Decision Tree Classifier</td>\n",
       "      <td id=\"T_d095c_row0_col1\" class=\"data row0 col1\" >1.0000</td>\n",
       "      <td id=\"T_d095c_row0_col2\" class=\"data row0 col2\" >0.0000</td>\n",
       "      <td id=\"T_d095c_row0_col3\" class=\"data row0 col3\" >1.0000</td>\n",
       "      <td id=\"T_d095c_row0_col4\" class=\"data row0 col4\" >1.0000</td>\n",
       "      <td id=\"T_d095c_row0_col5\" class=\"data row0 col5\" >1.0000</td>\n",
       "      <td id=\"T_d095c_row0_col6\" class=\"data row0 col6\" >1.0000</td>\n",
       "      <td id=\"T_d095c_row0_col7\" class=\"data row0 col7\" >1.0000</td>\n",
       "      <td id=\"T_d095c_row0_col8\" class=\"data row0 col8\" >0.0040</td>\n",
       "    </tr>\n",
       "    <tr>\n",
       "      <th id=\"T_d095c_level0_row1\" class=\"row_heading level0 row1\" >gbc</th>\n",
       "      <td id=\"T_d095c_row1_col0\" class=\"data row1 col0\" >Gradient Boosting Classifier</td>\n",
       "      <td id=\"T_d095c_row1_col1\" class=\"data row1 col1\" >0.9857</td>\n",
       "      <td id=\"T_d095c_row1_col2\" class=\"data row1 col2\" >0.0000</td>\n",
       "      <td id=\"T_d095c_row1_col3\" class=\"data row1 col3\" >0.9857</td>\n",
       "      <td id=\"T_d095c_row1_col4\" class=\"data row1 col4\" >0.9750</td>\n",
       "      <td id=\"T_d095c_row1_col5\" class=\"data row1 col5\" >0.9796</td>\n",
       "      <td id=\"T_d095c_row1_col6\" class=\"data row1 col6\" >0.9781</td>\n",
       "      <td id=\"T_d095c_row1_col7\" class=\"data row1 col7\" >0.9810</td>\n",
       "      <td id=\"T_d095c_row1_col8\" class=\"data row1 col8\" >0.0320</td>\n",
       "    </tr>\n",
       "    <tr>\n",
       "      <th id=\"T_d095c_level0_row2\" class=\"row_heading level0 row2\" >lightgbm</th>\n",
       "      <td id=\"T_d095c_row2_col0\" class=\"data row2 col0\" >Light Gradient Boosting Machine</td>\n",
       "      <td id=\"T_d095c_row2_col1\" class=\"data row2 col1\" >0.9548</td>\n",
       "      <td id=\"T_d095c_row2_col2\" class=\"data row2 col2\" >0.0000</td>\n",
       "      <td id=\"T_d095c_row2_col3\" class=\"data row2 col3\" >0.9548</td>\n",
       "      <td id=\"T_d095c_row2_col4\" class=\"data row2 col4\" >0.9452</td>\n",
       "      <td id=\"T_d095c_row2_col5\" class=\"data row2 col5\" >0.9490</td>\n",
       "      <td id=\"T_d095c_row2_col6\" class=\"data row2 col6\" >0.9327</td>\n",
       "      <td id=\"T_d095c_row2_col7\" class=\"data row2 col7\" >0.9410</td>\n",
       "      <td id=\"T_d095c_row2_col8\" class=\"data row2 col8\" >0.1320</td>\n",
       "    </tr>\n",
       "    <tr>\n",
       "      <th id=\"T_d095c_level0_row3\" class=\"row_heading level0 row3\" >nb</th>\n",
       "      <td id=\"T_d095c_row3_col0\" class=\"data row3 col0\" >Naive Bayes</td>\n",
       "      <td id=\"T_d095c_row3_col1\" class=\"data row3 col1\" >0.9214</td>\n",
       "      <td id=\"T_d095c_row3_col2\" class=\"data row3 col2\" >0.0000</td>\n",
       "      <td id=\"T_d095c_row3_col3\" class=\"data row3 col3\" >0.9214</td>\n",
       "      <td id=\"T_d095c_row3_col4\" class=\"data row3 col4\" >0.8722</td>\n",
       "      <td id=\"T_d095c_row3_col5\" class=\"data row3 col5\" >0.8914</td>\n",
       "      <td id=\"T_d095c_row3_col6\" class=\"data row3 col6\" >0.8842</td>\n",
       "      <td id=\"T_d095c_row3_col7\" class=\"data row3 col7\" >0.8999</td>\n",
       "      <td id=\"T_d095c_row3_col8\" class=\"data row3 col8\" >0.0040</td>\n",
       "    </tr>\n",
       "    <tr>\n",
       "      <th id=\"T_d095c_level0_row4\" class=\"row_heading level0 row4\" >et</th>\n",
       "      <td id=\"T_d095c_row4_col0\" class=\"data row4 col0\" >Extra Trees Classifier</td>\n",
       "      <td id=\"T_d095c_row4_col1\" class=\"data row4 col1\" >0.8071</td>\n",
       "      <td id=\"T_d095c_row4_col2\" class=\"data row4 col2\" >0.0000</td>\n",
       "      <td id=\"T_d095c_row4_col3\" class=\"data row4 col3\" >0.8071</td>\n",
       "      <td id=\"T_d095c_row4_col4\" class=\"data row4 col4\" >0.7429</td>\n",
       "      <td id=\"T_d095c_row4_col5\" class=\"data row4 col5\" >0.7636</td>\n",
       "      <td id=\"T_d095c_row4_col6\" class=\"data row4 col6\" >0.7167</td>\n",
       "      <td id=\"T_d095c_row4_col7\" class=\"data row4 col7\" >0.7406</td>\n",
       "      <td id=\"T_d095c_row4_col8\" class=\"data row4 col8\" >0.0210</td>\n",
       "    </tr>\n",
       "    <tr>\n",
       "      <th id=\"T_d095c_level0_row5\" class=\"row_heading level0 row5\" >ada</th>\n",
       "      <td id=\"T_d095c_row5_col0\" class=\"data row5 col0\" >Ada Boost Classifier</td>\n",
       "      <td id=\"T_d095c_row5_col1\" class=\"data row5 col1\" >0.7952</td>\n",
       "      <td id=\"T_d095c_row5_col2\" class=\"data row5 col2\" >0.0000</td>\n",
       "      <td id=\"T_d095c_row5_col3\" class=\"data row5 col3\" >0.7952</td>\n",
       "      <td id=\"T_d095c_row5_col4\" class=\"data row5 col4\" >0.6849</td>\n",
       "      <td id=\"T_d095c_row5_col5\" class=\"data row5 col5\" >0.7238</td>\n",
       "      <td id=\"T_d095c_row5_col6\" class=\"data row5 col6\" >0.6933</td>\n",
       "      <td id=\"T_d095c_row5_col7\" class=\"data row5 col7\" >0.7407</td>\n",
       "      <td id=\"T_d095c_row5_col8\" class=\"data row5 col8\" >0.0100</td>\n",
       "    </tr>\n",
       "    <tr>\n",
       "      <th id=\"T_d095c_level0_row6\" class=\"row_heading level0 row6\" >qda</th>\n",
       "      <td id=\"T_d095c_row6_col0\" class=\"data row6 col0\" >Quadratic Discriminant Analysis</td>\n",
       "      <td id=\"T_d095c_row6_col1\" class=\"data row6 col1\" >0.7595</td>\n",
       "      <td id=\"T_d095c_row6_col2\" class=\"data row6 col2\" >0.0000</td>\n",
       "      <td id=\"T_d095c_row6_col3\" class=\"data row6 col3\" >0.7595</td>\n",
       "      <td id=\"T_d095c_row6_col4\" class=\"data row6 col4\" >0.7429</td>\n",
       "      <td id=\"T_d095c_row6_col5\" class=\"data row6 col5\" >0.7484</td>\n",
       "      <td id=\"T_d095c_row6_col6\" class=\"data row6 col6\" >0.6652</td>\n",
       "      <td id=\"T_d095c_row6_col7\" class=\"data row6 col7\" >0.6965</td>\n",
       "      <td id=\"T_d095c_row6_col8\" class=\"data row6 col8\" >0.0040</td>\n",
       "    </tr>\n",
       "    <tr>\n",
       "      <th id=\"T_d095c_level0_row7\" class=\"row_heading level0 row7\" >rf</th>\n",
       "      <td id=\"T_d095c_row7_col0\" class=\"data row7 col0\" >Random Forest Classifier</td>\n",
       "      <td id=\"T_d095c_row7_col1\" class=\"data row7 col1\" >0.7238</td>\n",
       "      <td id=\"T_d095c_row7_col2\" class=\"data row7 col2\" >0.0000</td>\n",
       "      <td id=\"T_d095c_row7_col3\" class=\"data row7 col3\" >0.7238</td>\n",
       "      <td id=\"T_d095c_row7_col4\" class=\"data row7 col4\" >0.6490</td>\n",
       "      <td id=\"T_d095c_row7_col5\" class=\"data row7 col5\" >0.6703</td>\n",
       "      <td id=\"T_d095c_row7_col6\" class=\"data row7 col6\" >0.5941</td>\n",
       "      <td id=\"T_d095c_row7_col7\" class=\"data row7 col7\" >0.6319</td>\n",
       "      <td id=\"T_d095c_row7_col8\" class=\"data row7 col8\" >0.0250</td>\n",
       "    </tr>\n",
       "    <tr>\n",
       "      <th id=\"T_d095c_level0_row8\" class=\"row_heading level0 row8\" >lr</th>\n",
       "      <td id=\"T_d095c_row8_col0\" class=\"data row8 col0\" >Logistic Regression</td>\n",
       "      <td id=\"T_d095c_row8_col1\" class=\"data row8 col1\" >0.7119</td>\n",
       "      <td id=\"T_d095c_row8_col2\" class=\"data row8 col2\" >0.0000</td>\n",
       "      <td id=\"T_d095c_row8_col3\" class=\"data row8 col3\" >0.7119</td>\n",
       "      <td id=\"T_d095c_row8_col4\" class=\"data row8 col4\" >0.6599</td>\n",
       "      <td id=\"T_d095c_row8_col5\" class=\"data row8 col5\" >0.6752</td>\n",
       "      <td id=\"T_d095c_row8_col6\" class=\"data row8 col6\" >0.5813</td>\n",
       "      <td id=\"T_d095c_row8_col7\" class=\"data row8 col7\" >0.6046</td>\n",
       "      <td id=\"T_d095c_row8_col8\" class=\"data row8 col8\" >0.1870</td>\n",
       "    </tr>\n",
       "    <tr>\n",
       "      <th id=\"T_d095c_level0_row9\" class=\"row_heading level0 row9\" >svm</th>\n",
       "      <td id=\"T_d095c_row9_col0\" class=\"data row9 col0\" >SVM - Linear Kernel</td>\n",
       "      <td id=\"T_d095c_row9_col1\" class=\"data row9 col1\" >0.6976</td>\n",
       "      <td id=\"T_d095c_row9_col2\" class=\"data row9 col2\" >0.0000</td>\n",
       "      <td id=\"T_d095c_row9_col3\" class=\"data row9 col3\" >0.6976</td>\n",
       "      <td id=\"T_d095c_row9_col4\" class=\"data row9 col4\" >0.6504</td>\n",
       "      <td id=\"T_d095c_row9_col5\" class=\"data row9 col5\" >0.6528</td>\n",
       "      <td id=\"T_d095c_row9_col6\" class=\"data row9 col6\" >0.5606</td>\n",
       "      <td id=\"T_d095c_row9_col7\" class=\"data row9 col7\" >0.5990</td>\n",
       "      <td id=\"T_d095c_row9_col8\" class=\"data row9 col8\" >0.0070</td>\n",
       "    </tr>\n",
       "    <tr>\n",
       "      <th id=\"T_d095c_level0_row10\" class=\"row_heading level0 row10\" >ridge</th>\n",
       "      <td id=\"T_d095c_row10_col0\" class=\"data row10 col0\" >Ridge Classifier</td>\n",
       "      <td id=\"T_d095c_row10_col1\" class=\"data row10 col1\" >0.6524</td>\n",
       "      <td id=\"T_d095c_row10_col2\" class=\"data row10 col2\" >0.0000</td>\n",
       "      <td id=\"T_d095c_row10_col3\" class=\"data row10 col3\" >0.6524</td>\n",
       "      <td id=\"T_d095c_row10_col4\" class=\"data row10 col4\" >0.5962</td>\n",
       "      <td id=\"T_d095c_row10_col5\" class=\"data row10 col5\" >0.6042</td>\n",
       "      <td id=\"T_d095c_row10_col6\" class=\"data row10 col6\" >0.4829</td>\n",
       "      <td id=\"T_d095c_row10_col7\" class=\"data row10 col7\" >0.5147</td>\n",
       "      <td id=\"T_d095c_row10_col8\" class=\"data row10 col8\" >0.0040</td>\n",
       "    </tr>\n",
       "    <tr>\n",
       "      <th id=\"T_d095c_level0_row11\" class=\"row_heading level0 row11\" >knn</th>\n",
       "      <td id=\"T_d095c_row11_col0\" class=\"data row11 col0\" >K Neighbors Classifier</td>\n",
       "      <td id=\"T_d095c_row11_col1\" class=\"data row11 col1\" >0.6024</td>\n",
       "      <td id=\"T_d095c_row11_col2\" class=\"data row11 col2\" >0.0000</td>\n",
       "      <td id=\"T_d095c_row11_col3\" class=\"data row11 col3\" >0.6024</td>\n",
       "      <td id=\"T_d095c_row11_col4\" class=\"data row11 col4\" >0.4967</td>\n",
       "      <td id=\"T_d095c_row11_col5\" class=\"data row11 col5\" >0.5249</td>\n",
       "      <td id=\"T_d095c_row11_col6\" class=\"data row11 col6\" >0.3868</td>\n",
       "      <td id=\"T_d095c_row11_col7\" class=\"data row11 col7\" >0.4244</td>\n",
       "      <td id=\"T_d095c_row11_col8\" class=\"data row11 col8\" >0.0090</td>\n",
       "    </tr>\n",
       "    <tr>\n",
       "      <th id=\"T_d095c_level0_row12\" class=\"row_heading level0 row12\" >dummy</th>\n",
       "      <td id=\"T_d095c_row12_col0\" class=\"data row12 col0\" >Dummy Classifier</td>\n",
       "      <td id=\"T_d095c_row12_col1\" class=\"data row12 col1\" >0.4119</td>\n",
       "      <td id=\"T_d095c_row12_col2\" class=\"data row12 col2\" >0.0000</td>\n",
       "      <td id=\"T_d095c_row12_col3\" class=\"data row12 col3\" >0.4119</td>\n",
       "      <td id=\"T_d095c_row12_col4\" class=\"data row12 col4\" >0.1745</td>\n",
       "      <td id=\"T_d095c_row12_col5\" class=\"data row12 col5\" >0.2438</td>\n",
       "      <td id=\"T_d095c_row12_col6\" class=\"data row12 col6\" >0.0000</td>\n",
       "      <td id=\"T_d095c_row12_col7\" class=\"data row12 col7\" >0.0000</td>\n",
       "      <td id=\"T_d095c_row12_col8\" class=\"data row12 col8\" >0.0040</td>\n",
       "    </tr>\n",
       "    <tr>\n",
       "      <th id=\"T_d095c_level0_row13\" class=\"row_heading level0 row13\" >lda</th>\n",
       "      <td id=\"T_d095c_row13_col0\" class=\"data row13 col0\" >Linear Discriminant Analysis</td>\n",
       "      <td id=\"T_d095c_row13_col1\" class=\"data row13 col1\" >0.3500</td>\n",
       "      <td id=\"T_d095c_row13_col2\" class=\"data row13 col2\" >0.0000</td>\n",
       "      <td id=\"T_d095c_row13_col3\" class=\"data row13 col3\" >0.3500</td>\n",
       "      <td id=\"T_d095c_row13_col4\" class=\"data row13 col4\" >0.2527</td>\n",
       "      <td id=\"T_d095c_row13_col5\" class=\"data row13 col5\" >0.2827</td>\n",
       "      <td id=\"T_d095c_row13_col6\" class=\"data row13 col6\" >-0.0146</td>\n",
       "      <td id=\"T_d095c_row13_col7\" class=\"data row13 col7\" >-0.0201</td>\n",
       "      <td id=\"T_d095c_row13_col8\" class=\"data row13 col8\" >0.0040</td>\n",
       "    </tr>\n",
       "  </tbody>\n",
       "</table>\n"
      ],
      "text/plain": [
       "<pandas.io.formats.style.Styler at 0x1531ba5c0>"
      ]
     },
     "metadata": {},
     "output_type": "display_data"
    },
    {
     "data": {
      "text/html": [],
      "text/plain": [
       "<IPython.core.display.HTML object>"
      ]
     },
     "metadata": {},
     "output_type": "display_data"
    },
    {
     "data": {
      "text/html": [],
      "text/plain": [
       "<IPython.core.display.HTML object>"
      ]
     },
     "metadata": {},
     "output_type": "display_data"
    }
   ],
   "source": [
    "# PyCaret for comparison\n",
    "from pycaret.classification import setup, compare_models, finalize_model, predict_model\n",
    "data_pycaret = X.copy()\n",
    "data_pycaret['Target'] = y['Target']\n",
    "\n",
    "# Setup PyCaret\n",
    "clf1 = setup(data=data_pycaret, target='Target', session_id=42, verbose=True)\n",
    "\n",
    "\n",
    "best_model = compare_models()\n",
    "\n",
    "# Finalize the best model\n",
    "final_model = finalize_model(best_model)\n",
    "\n",
    "# Make predictions (if you have new data to predict)\n",
    "predictions = predict_model(final_model, data=X_train)"
   ]
  },
  {
   "cell_type": "markdown",
   "id": "fd569c93-b7d6-4845-a8d2-8cdf4dc768c1",
   "metadata": {},
   "source": [
    "<b>Gradient Boosting Machines (GBM)</b> is an ensemble learning technique that builds models in a sequential manner, where each new model corrects the errors made by the previous models. It uses decision trees as base learners, which are trained to minimize the residual errors from the previous trees.It uses gradient descent to optimize the model's performance by minimizing a loss function."
   ]
  },
  {
   "cell_type": "code",
   "execution_count": 50,
   "id": "f4c9d864-da0b-4899-ae63-cdee4150c195",
   "metadata": {},
   "outputs": [
    {
     "name": "stdout",
     "output_type": "stream",
     "text": [
      "Gradient Boosting Classifier\n",
      "              precision    recall  f1-score   support\n",
      "\n",
      "           0       1.00      1.00      1.00         5\n",
      "           1       1.00      1.00      1.00         1\n",
      "           2       1.00      1.00      1.00        10\n",
      "           3       1.00      1.00      1.00         2\n",
      "           4       1.00      1.00      1.00         1\n",
      "\n",
      "    accuracy                           1.00        19\n",
      "   macro avg       1.00      1.00      1.00        19\n",
      "weighted avg       1.00      1.00      1.00        19\n",
      "\n",
      "Accuracy: 1.0\n"
     ]
    }
   ],
   "source": [
    "from sklearn.ensemble import GradientBoostingClassifier\n",
    "from sklearn.metrics import classification_report, accuracy_score\n",
    "from sklearn.model_selection import train_test_split\n",
    "\n",
    "# Initializing the Gradient Boosting Classifier\n",
    "gbc = GradientBoostingClassifier()\n",
    "\n",
    "# Training the model\n",
    "gbc.fit(X_train, y_train)\n",
    "\n",
    "# Making predictions\n",
    "y_pred = gbc.predict(X_test)\n",
    "\n",
    "# Evaluating the model\n",
    "print(\"Gradient Boosting Classifier\")\n",
    "print(classification_report(y_test, y_pred))\n",
    "print(f\"Accuracy: {accuracy_score(y_test, y_pred)}\")"
   ]
  },
  {
   "cell_type": "markdown",
   "id": "5800a279-a739-47c1-97e6-e486a7c74ce1",
   "metadata": {},
   "source": [
    "The <b> Decision Tree Classifier</b> is a supervised learning algorithm that creates a model in the form of a tree structure. Each node in the tree represents a feature (or attribute), and each branch represents a decision rule. The leaves represent the outcome or class labels. The process continues recursively until a stopping condition is met, such as a maximum tree depth or minimum sample size per leaf."
   ]
  },
  {
   "cell_type": "code",
   "execution_count": 32,
   "id": "14c96b49-a629-4f7f-b413-b093f15a5a6c",
   "metadata": {},
   "outputs": [
    {
     "name": "stdout",
     "output_type": "stream",
     "text": [
      "Decision Tree Classifier\n",
      "              precision    recall  f1-score   support\n",
      "\n",
      "           0       1.00      1.00      1.00        11\n",
      "           1       1.00      1.00      1.00         2\n",
      "           2       1.00      1.00      1.00        12\n",
      "           3       1.00      1.00      1.00         2\n",
      "           4       1.00      1.00      1.00         1\n",
      "\n",
      "    accuracy                           1.00        28\n",
      "   macro avg       1.00      1.00      1.00        28\n",
      "weighted avg       1.00      1.00      1.00        28\n",
      "\n",
      "Accuracy: 1.0\n"
     ]
    }
   ],
   "source": [
    "from sklearn.tree import DecisionTreeClassifier\n",
    "from sklearn.metrics import classification_report, accuracy_score\n",
    "from sklearn.model_selection import train_test_split\n",
    "\n",
    "dt = DecisionTreeClassifier()\n",
    "\n",
    "# Training the model\n",
    "dt.fit(X_train, y_train)\n",
    "\n",
    "# Making predictions\n",
    "y_pred = dt.predict(X_test)\n",
    "\n",
    "# Evaluating the model\n",
    "print(\"Decision Tree Classifier\")\n",
    "print(classification_report(y_test, y_pred))\n",
    "print(f\"Accuracy: {accuracy_score(y_test, y_pred)}\")"
   ]
  },
  {
   "cell_type": "markdown",
   "id": "6604e06e-33d2-4590-ae06-2737f75d9f09",
   "metadata": {},
   "source": [
    "<b>The Random Forest Classifier</b> is an ensemble learning method that constructs multiple decision trees during training and outputs the class that is the mode (most frequent) of the classes predicted by individual trees. Random Forest builds a multitude of decision trees using random subsets of the data and features (bootstrapping and feature bagging). It helps in reducing overfitting by averaging out the errors of individual trees."
   ]
  },
  {
   "cell_type": "code",
   "execution_count": 33,
   "id": "63d8e5ea-1c0a-4693-8cd8-54d1d514fe40",
   "metadata": {},
   "outputs": [
    {
     "name": "stdout",
     "output_type": "stream",
     "text": [
      "Random Forest\n",
      "              precision    recall  f1-score   support\n",
      "\n",
      "           0       1.00      1.00      1.00        11\n",
      "           1       0.50      0.50      0.50         2\n",
      "           2       0.78      0.58      0.67        12\n",
      "           3       0.40      1.00      0.57         2\n",
      "           4       0.00      0.00      0.00         1\n",
      "\n",
      "    accuracy                           0.75        28\n",
      "   macro avg       0.54      0.62      0.55        28\n",
      "weighted avg       0.79      0.75      0.76        28\n",
      "\n",
      "Accuracy: 0.75\n"
     ]
    }
   ],
   "source": [
    "from sklearn.ensemble import RandomForestClassifier\n",
    "from sklearn.metrics import classification_report, accuracy_score\n",
    "\n",
    "rf = RandomForestClassifier(n_estimators=100, random_state=42)\n",
    "rf.fit(X_train, y_train)\n",
    "\n",
    "# Predict and evaluate\n",
    "y_pred_rf = rf.predict(X_test)\n",
    "print(\"Random Forest\")\n",
    "print(classification_report(y_test, y_pred_rf))\n",
    "print(f\"Accuracy: {accuracy_score(y_test, y_pred_rf)}\")"
   ]
  },
  {
   "cell_type": "markdown",
   "id": "6e9ebfad-457a-4988-9c1a-186b991fa841",
   "metadata": {},
   "source": [
    "<b>Logistic Regression </b>is a statistical model used for binary classification problems. Despite its name, it's a classification algorithm, not a regression algorithm. It predicts the probability of a binary outcome based on one or more predictor variables. Logistic Regression uses the logistic function (or sigmoid function) to model the probability of a binary outcome."
   ]
  },
  {
   "cell_type": "code",
   "execution_count": 34,
   "id": "e6c7efa7-3ea8-4b93-a7e1-414271510249",
   "metadata": {},
   "outputs": [
    {
     "name": "stdout",
     "output_type": "stream",
     "text": [
      "Logistic Regression\n",
      "              precision    recall  f1-score   support\n",
      "\n",
      "           0       0.92      1.00      0.96        11\n",
      "           1       0.33      0.50      0.40         2\n",
      "           2       1.00      0.50      0.67        12\n",
      "           3       0.29      1.00      0.44         2\n",
      "           4       0.00      0.00      0.00         1\n",
      "\n",
      "    accuracy                           0.71        28\n",
      "   macro avg       0.51      0.60      0.49        28\n",
      "weighted avg       0.83      0.71      0.72        28\n",
      "\n",
      "Accuracy: 0.7142857142857143\n"
     ]
    }
   ],
   "source": [
    "from sklearn.linear_model import LogisticRegression\n",
    "from sklearn.metrics import classification_report, accuracy_score\n",
    "# Train Logistic Regression model\n",
    "log_reg = LogisticRegression(max_iter=1000)\n",
    "log_reg.fit(X_train, y_train)\n",
    "\n",
    "# Predict and evaluate\n",
    "y_pred = log_reg.predict(X_test)\n",
    "print(\"Logistic Regression\")\n",
    "print(classification_report(y_test, y_pred))\n",
    "print(f\"Accuracy: {accuracy_score(y_test, y_pred)}\")"
   ]
  },
  {
   "cell_type": "markdown",
   "id": "3071e42c-fe28-424f-8a0d-f1cebbeeadaa",
   "metadata": {},
   "source": [
    "<b>K-Means Clustering</b> is a popular unsupervised learning algorithm used to partition a dataset into distinct groups (or clusters). Each cluster contains data points that are more similar to each other than to those in other clusters. The goal is to minimize the variance within each cluster while maximizing the variance between clusters.<br>\n",
    "This process helps in identifying patterns in the data, such as how different groups of students are affected by mobile phone usage in terms of their health and academic performance. K-Means clustering, while simple, can provide valuable insights into the underlying structure of the data."
   ]
  },
  {
   "cell_type": "code",
   "execution_count": 35,
   "id": "65c5473c-ddc2-407a-a0ff-9b4dcd7c6541",
   "metadata": {},
   "outputs": [
    {
     "data": {
      "image/png": "[encoded data removed]",
      "text/plain": [
       "<Figure size 800x550 with 2 Axes>"
      ]
     },
     "metadata": {},
     "output_type": "display_data"
    }
   ],
   "source": [
    "from sklearn.cluster import KMeans\n",
    "import matplotlib.pyplot as plt\n",
    "\n",
    "# Select features for clustering\n",
    "X_cluster = data[['Daily usages Hours', 'Usage distraction Code', 'Symptoms Frequency', 'Health Risks Code']]\n",
    "\n",
    "# Apply K-Means Clustering\n",
    "kmeans = KMeans(n_clusters=3, random_state=42)  # You can choose the number of clusters\n",
    "clusters = kmeans.fit_predict(X_cluster)\n",
    "data['Cluster'] = clusters\n",
    "\n",
    "# Visualize clusters\n",
    "plt.scatter(data['Daily usages Hours'], data['Symptoms Frequency'], c=data['Cluster'], cmap='viridis')\n",
    "plt.xlabel('Daily usages Hours')\n",
    "plt.ylabel('Symptoms Frequency')\n",
    "plt.title('Clusters of Students')\n",
    "plt.colorbar()\n",
    "plt.show()"
   ]
  },
  {
   "cell_type": "markdown",
   "id": "2c838572-3f31-4c20-a0ec-8a5803bc224e",
   "metadata": {},
   "source": [
    "# Evaluation\n",
    "# Model Performance\n",
    "<b>Gradient Boosting Classifier:</b> High accuracy in predicting outcomes.<br>\n",
    "<b>Decision Tree Classifier:</b> Also performed well with high accuracy.<br>\n",
    "<b>Random Forest Classifier:</b> Less consistent, requires adjustment.<br>\n",
    "<b>Logistic Regression:</b> Lower accuracy compared to other models.<br>\n",
    "<b>Clustering Insights:</b>\n",
    "K-Means clustering helped identify patterns in mobile phone usage and health symptoms.<br><br>\n",
    "In our evaluations, both the Gradient Boosting Classifier and the Decision Tree Classifier performed admirably, with perfect accuracy and other metrics. With an accuracy of 75%, the Random Forest Classifier produced inconsistent results across classes, indicating that it may require additional adjustments. Logistic regression had the poorest performance, with an accuracy of 71% and lower precision and recall than the other models.<br>\n",
    "We also used K-Means clustering to classify students based on their phone usage and health status. This clustering allowed us to identify patterns and similarities between students. The clustering visualizations revealed a correlation between students' daily phone usage and health symptoms. Overall, the Gradient Boosting Classifier made the most accurate predictions, while the clustering analysis revealed useful information about how phone usage affects students."
   ]
  },
  {
   "cell_type": "markdown",
   "id": "8bc692e6-9db2-45a5-84e8-7bf0c9fa9331",
   "metadata": {},
   "source": [
    "# Conclusion\n",
    "Gradient Boosting and Decision Tree Classifiers showed high accuracy in predicting student outcomes. K-Means clustering provided valuable insights into the patterns of mobile phone usage and health impacts.The Random Forest Classifier didn’t do as well and needs adjustments. Logistic Regression performed the worst, with lower accuracy and weaker results."
   ]
  },
  {
   "cell_type": "markdown",
   "id": "719d8cf9-608a-47e9-9257-9e352aef6e3f",
   "metadata": {},
   "source": [
    "# Known Issues\n",
    "<b>Data Imbalance:</b> Some categories have insufficient examples.<br>\n",
    "<b>Overfitting:</b> High accuracy in training may indicate overfitting.<br>\n",
    "<b>Model Sensitivity:</b> Random Forest results varied, indicating potential need for tuning.<br>\n",
    "<b>Feature Simplification:</b> Conversion and normalization might oversimplify data.<br>\n",
    "<b>Biases:</b> Initial data collection may have biases affecting model performance.<br>"
   ]
  },
  {
   "cell_type": "markdown",
   "id": "feb8682e-7bff-42c6-b4b6-b36d89cf491f",
   "metadata": {},
   "source": [
    "# Future Work\n",
    "<b>Improve Data Balance:</b> Use methods like SMOTE or ADASYN to balance the dataset so that all classes are equally represented. This helps the model perform better by ensuring that no class is underrepresented.<br>\n",
    "\n",
    "<b>Explore Advanced Models:</b> Try using advanced machine learning algorithms and deep learning models, such as XGBoost, LightGBM, or neural networks, to potentially achieve more accurate results and gain deeper insights.<br>\n",
    "\n",
    "<b>Enhance Feature Engineering:</b> Create and test new features that provide more detailed information on how mobile phone usage affects students' academic performance and health.<br>\n",
    "\n",
    "<b>Long-Term Studies:</b> Conduct studies over a longer period to understand how mobile phone usage impacts academic performance and health over time.<br>\n",
    "\n",
    "<b>Expand Dataset:</b> Incorporate additional data sources, like academic records from different years or related surveys, to get a more complete understanding of the impact.<br>\n",
    "\n",
    "<b>Address Data Quality Issues:</b> Continuously refine data cleaning and preprocessing techniques to minimize errors and biases, ensuring the dataset is as accurate and reliable as possible.<br>\n",
    "\n",
    "Future work should concentrate on improving data balance, experimenting with advanced modeling techniques, and developing more detailed features. Additionally, conducting long-term studies, expanding the dataset, and enhancing data cleaning methods will provide a deeper and more comprehensive understanding of how mobile phone usage affects academic performance and health."
   ]
  },
  {
   "cell_type": "code",
   "execution_count": null,
   "id": "f574de62-4b3c-4098-a371-5b51f839acd3",
   "metadata": {},
   "outputs": [],
   "source": []
  }
 ],
 "metadata": {
  "kernelspec": {
   "display_name": "Python 3 (ipykernel)",
   "language": "python",
   "name": "python3"
  },
  "language_info": {
   "codemirror_mode": {
    "name": "ipython",
    "version": 3
   },
   "file_extension": ".py",
   "mimetype": "text/x-python",
   "name": "python",
   "nbconvert_exporter": "python",
   "pygments_lexer": "ipython3",
   "version": "3.10.14"
  }
 },
 "nbformat": 4,
 "nbformat_minor": 5
}
